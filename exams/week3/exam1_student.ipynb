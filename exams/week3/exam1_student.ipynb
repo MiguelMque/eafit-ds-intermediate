{
 "cells": [
  {
   "cell_type": "markdown",
   "id": "ae516549",
   "metadata": {},
   "source": [
    "# Objetivos"
   ]
  },
  {
   "cell_type": "markdown",
   "id": "466123ca",
   "metadata": {},
   "source": []
  },
  {
   "cell_type": "markdown",
   "id": "0f515dcc",
   "metadata": {},
   "source": [
    "# Introduction"
   ]
  },
  {
   "cell_type": "markdown",
   "id": "21271996",
   "metadata": {},
   "source": [
    "**Contexto de Negocio.** You are an independent consultant working for multiple clients.\n",
    "\n",
    "**Problema de Negocio.** \n",
    "\n",
    "**Contexto Analítico.** "
   ]
  },
  {
   "cell_type": "code",
   "execution_count": null,
   "id": "36d15364",
   "metadata": {},
   "outputs": [],
   "source": [
    "# "
   ]
  },
  {
   "cell_type": "code",
   "execution_count": null,
   "id": "b91a72a6",
   "metadata": {},
   "outputs": [],
   "source": []
  },
  {
   "cell_type": "markdown",
   "id": "b8a65c96",
   "metadata": {},
   "source": [
    "## Ejercicio 1"
   ]
  },
  {
   "cell_type": "code",
   "execution_count": null,
   "id": "ec9f9721",
   "metadata": {},
   "outputs": [],
   "source": []
  }
 ],
 "metadata": {
  "kernelspec": {
   "display_name": "Python 3",
   "language": "python",
   "name": "python3"
  },
  "language_info": {
   "codemirror_mode": {
    "name": "ipython",
    "version": 3
   },
   "file_extension": ".py",
   "mimetype": "text/x-python",
   "name": "python",
   "nbconvert_exporter": "python",
   "pygments_lexer": "ipython3",
   "version": "3.9.2"
  }
 },
 "nbformat": 4,
 "nbformat_minor": 5
}
